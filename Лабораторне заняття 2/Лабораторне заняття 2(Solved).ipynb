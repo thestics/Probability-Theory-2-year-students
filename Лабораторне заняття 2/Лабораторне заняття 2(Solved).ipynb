{
 "cells": [
  {
   "cell_type": "markdown",
   "metadata": {},
   "source": [
    "# Лабораторне заняття №2\n",
    "Знайомство з бібліотекою **NumPy**."
   ]
  },
  {
   "cell_type": "code",
   "execution_count": 2,
   "metadata": {},
   "outputs": [],
   "source": [
    "import numpy as np"
   ]
  },
  {
   "cell_type": "markdown",
   "metadata": {},
   "source": [
    "## 1 Огляд функцій випадкового вибору"
   ]
  },
  {
   "cell_type": "markdown",
   "metadata": {},
   "source": [
    "### 1.1 Функція *choice*\n",
    "Для детальної інформації див. [документацію](https://docs.scipy.org/doc/numpy-1.14.1/reference/generated/numpy.random.choice.html)."
   ]
  },
  {
   "cell_type": "code",
   "execution_count": 5,
   "metadata": {},
   "outputs": [
    {
     "name": "stdout",
     "output_type": "stream",
     "text": [
      "['2' 'top' '2' 'top' '4.5' 'bottom' 'top' 'top' '4.5' '4.5']\n"
     ]
    }
   ],
   "source": [
    "a = [\"top\", 2, \"bottom\", 4.5]\n",
    "size = 10\n",
    "probs = [0.4, 0.2, 0.1, 0.3]\n",
    "replace = True\n",
    "print(np.random.choice(a, size=size, replace=replace, p=probs))"
   ]
  },
  {
   "cell_type": "markdown",
   "metadata": {},
   "source": [
    "Згенеруйте одну випадкову цифру, вважаючи їх рівноймовірними."
   ]
  },
  {
   "cell_type": "code",
   "execution_count": 12,
   "metadata": {},
   "outputs": [
    {
     "name": "stdout",
     "output_type": "stream",
     "text": [
      "9\n"
     ]
    }
   ],
   "source": [
    "print(*np.random.choice(range(1, 10), size=1))"
   ]
  },
  {
   "cell_type": "markdown",
   "metadata": {},
   "source": [
    "Згенеруйте випадкову матрицю $4 \\times 6$ із рівноймовірних цифр."
   ]
  },
  {
   "cell_type": "code",
   "execution_count": 14,
   "metadata": {},
   "outputs": [
    {
     "name": "stdout",
     "output_type": "stream",
     "text": [
      "[[3 8 6 9 4 2]\n",
      " [1 5 1 6 4 9]\n",
      " [7 4 8 2 5 5]\n",
      " [4 5 5 3 3 5]]\n"
     ]
    }
   ],
   "source": [
    "print(np.random.choice(range(1, 10), size=(4, 6)))"
   ]
  },
  {
   "cell_type": "markdown",
   "metadata": {},
   "source": [
    "### 1.2 Функція *randint*\n",
    "Для детальної інформації див. [документацію](https://docs.scipy.org/doc/numpy-1.14.1/reference/generated/numpy.random.randint.html)."
   ]
  },
  {
   "cell_type": "code",
   "execution_count": 5,
   "metadata": {},
   "outputs": [
    {
     "name": "stdout",
     "output_type": "stream",
     "text": [
      "[3 1 4 2 1 4 1 1 0 4]\n"
     ]
    }
   ],
   "source": [
    "low = 0\n",
    "high = 5\n",
    "size = 10\n",
    "print(np.random.randint(low=low, high=high, size=size))"
   ]
  },
  {
   "cell_type": "markdown",
   "metadata": {},
   "source": [
    "Згенеруйте одну випадкову цифру."
   ]
  },
  {
   "cell_type": "code",
   "execution_count": 15,
   "metadata": {},
   "outputs": [
    {
     "name": "stdout",
     "output_type": "stream",
     "text": [
      "[4]\n"
     ]
    }
   ],
   "source": [
    "print(np.random.randint(1, 9, 1))"
   ]
  },
  {
   "cell_type": "markdown",
   "metadata": {},
   "source": [
    "Згенеруйте випадкову матрицю $4 \\times 5$ із двоцифрових чисел."
   ]
  },
  {
   "cell_type": "code",
   "execution_count": 16,
   "metadata": {},
   "outputs": [
    {
     "name": "stdout",
     "output_type": "stream",
     "text": [
      "[[91 11 82 21 86]\n",
      " [32 28 44 93 65]\n",
      " [26 32 59 43 31]\n",
      " [30 43 12 55 33]]\n"
     ]
    }
   ],
   "source": [
    "print(np.random.randint(10, 99, (4, 5)))"
   ]
  },
  {
   "cell_type": "markdown",
   "metadata": {},
   "source": [
    "### 1.3 Функція *sample*\n",
    "Для детальної інформації див. [документацію](https://docs.scipy.org/doc/numpy-1.14.1/reference/generated/numpy.random.sample.html)."
   ]
  },
  {
   "cell_type": "code",
   "execution_count": 8,
   "metadata": {},
   "outputs": [
    {
     "name": "stdout",
     "output_type": "stream",
     "text": [
      "0.3369603119037976\n"
     ]
    }
   ],
   "source": [
    "size = None\n",
    "print(np.random.sample(size=size))"
   ]
  },
  {
   "cell_type": "markdown",
   "metadata": {},
   "source": [
    "Згенеруйте випадкову матрицю $3 \\times 4$ із чисел з інтервалу $[0, 1)$."
   ]
  },
  {
   "cell_type": "code",
   "execution_count": 18,
   "metadata": {},
   "outputs": [
    {
     "name": "stdout",
     "output_type": "stream",
     "text": [
      "[[0.78890062 0.88167109 0.50091417 0.16739428]\n",
      " [0.34541789 0.93021366 0.01477286 0.06103725]\n",
      " [0.94602783 0.27193863 0.13757228 0.12272514]]\n"
     ]
    }
   ],
   "source": [
    "print(np.random.sample((3, 4)))"
   ]
  },
  {
   "cell_type": "markdown",
   "metadata": {},
   "source": [
    "Згенеруйте 10 випадкових чисел з інтервалу $[a, b)$."
   ]
  },
  {
   "cell_type": "code",
   "execution_count": 20,
   "metadata": {},
   "outputs": [],
   "source": [
    "a = 3\n",
    "b = 5"
   ]
  },
  {
   "cell_type": "code",
   "execution_count": 23,
   "metadata": {},
   "outputs": [
    {
     "data": {
      "text/plain": [
       "array([[0.98291775, 0.62167231, 0.92700436, 1.91487644, 1.49176291,\n",
       "        0.8557379 , 1.09051759, 1.42753666, 1.79844954, 1.61594199]])"
      ]
     },
     "execution_count": 23,
     "metadata": {},
     "output_type": "execute_result"
    }
   ],
   "source": [
    "(b - a) * np.random.sample((1, 10))"
   ]
  },
  {
   "cell_type": "markdown",
   "metadata": {},
   "source": [
    "### 1.4 Функція *shuffle*\n",
    "Для детальної інформації див. [документацію](https://docs.scipy.org/doc/numpy-1.14.1/reference/generated/numpy.random.shuffle.html)."
   ]
  },
  {
   "cell_type": "code",
   "execution_count": 12,
   "metadata": {},
   "outputs": [
    {
     "name": "stdout",
     "output_type": "stream",
     "text": [
      "[9 5 3 7 8 1 0 2 6 4]\n"
     ]
    }
   ],
   "source": [
    "x = np.arange(10)\n",
    "np.random.shuffle(x)\n",
    "print(x)"
   ]
  },
  {
   "cell_type": "markdown",
   "metadata": {},
   "source": [
    "Перетасуйте матрицю $M$."
   ]
  },
  {
   "cell_type": "code",
   "execution_count": 24,
   "metadata": {},
   "outputs": [
    {
     "name": "stdout",
     "output_type": "stream",
     "text": [
      "[[ 0  1  2  3  4]\n",
      " [ 5  6  7  8  9]\n",
      " [10 11 12 13 14]\n",
      " [15 16 17 18 19]]\n"
     ]
    }
   ],
   "source": [
    "M = np.arange(20).reshape((4, 5))\n",
    "print(M)"
   ]
  },
  {
   "cell_type": "code",
   "execution_count": 55,
   "metadata": {},
   "outputs": [
    {
     "data": {
      "text/plain": [
       "array([[10, 11, 12, 13, 14],\n",
       "       [ 0,  1,  2,  3,  4],\n",
       "       [15, 16, 17, 18, 19],\n",
       "       [ 5,  6,  7,  8,  9]])"
      ]
     },
     "execution_count": 55,
     "metadata": {},
     "output_type": "execute_result"
    }
   ],
   "source": [
    "# Місце для Вашого коду\n",
    "\n",
    "np.random.shuffle(M)\n",
    "M\n",
    "# tmpM = np.array(M.flat)\n",
    "# np.random.shuffle(tmpM)\n",
    "# tmpM.reshape((4, 5))"
   ]
  },
  {
   "cell_type": "markdown",
   "metadata": {},
   "source": [
    "## 2 Відтворюваність результатів\n",
    "Можна задати початкове значення для генератора. Це зафіксує \"випадкову\" послідовність."
   ]
  },
  {
   "cell_type": "code",
   "execution_count": 15,
   "metadata": {
    "collapsed": true
   },
   "outputs": [],
   "source": [
    "np.random.seed(42)"
   ]
  },
  {
   "cell_type": "code",
   "execution_count": 16,
   "metadata": {},
   "outputs": [
    {
     "name": "stdout",
     "output_type": "stream",
     "text": [
      "6\n"
     ]
    }
   ],
   "source": [
    "print(np.random.randint(10))"
   ]
  },
  {
   "cell_type": "code",
   "execution_count": 17,
   "metadata": {},
   "outputs": [
    {
     "name": "stdout",
     "output_type": "stream",
     "text": [
      "3\n"
     ]
    }
   ],
   "source": [
    "print(np.random.randint(10))"
   ]
  },
  {
   "cell_type": "code",
   "execution_count": 18,
   "metadata": {},
   "outputs": [
    {
     "name": "stdout",
     "output_type": "stream",
     "text": [
      "6\n",
      "3\n"
     ]
    }
   ],
   "source": [
    "np.random.seed(42)\n",
    "print(np.random.randint(10))\n",
    "print(np.random.randint(10))"
   ]
  },
  {
   "cell_type": "code",
   "execution_count": 19,
   "metadata": {},
   "outputs": [
    {
     "name": "stdout",
     "output_type": "stream",
     "text": [
      "[6 3 7 4 6 9 2 6 7 4]\n",
      "['l' 'l' 'l' 'b' 'r' 't' 'r' 'l' 'l' 'r']\n",
      "[6 3 7 4 6 9 2 6 7 4]\n",
      "['l' 'l' 'l' 'b' 'r' 't' 'r' 'l' 'l' 'r']\n"
     ]
    }
   ],
   "source": [
    "np.random.seed(42)\n",
    "print(np.random.randint(10, size=10))\n",
    "print(np.random.choice(['t', 'r', 'b', 'l'], size=10))\n",
    "np.random.seed(42)\n",
    "print(np.random.randint(10, size=10))\n",
    "print(np.random.choice(['t', 'r', 'b', 'l'], size=10))"
   ]
  },
  {
   "cell_type": "markdown",
   "metadata": {},
   "source": [
    "## 3 Монетка"
   ]
  },
  {
   "cell_type": "markdown",
   "metadata": {},
   "source": [
    "### 3.1 За допомогою функції *choice*"
   ]
  },
  {
   "cell_type": "code",
   "execution_count": 51,
   "metadata": {},
   "outputs": [
    {
     "name": "stdout",
     "output_type": "stream",
     "text": [
      "['Tail' 'Head' 'Tail' 'Head' 'Head' 'Head' 'Tail' 'Tail' 'Head' 'Tail']\n"
     ]
    }
   ],
   "source": [
    "np.random.seed(None)\n",
    "p = 0.5\n",
    "n = 10\n",
    "tosses = np.random.choice([\"Head\",\"Tail\"], p = [p, 1 - p], size = n)\n",
    "print(tosses)"
   ]
  },
  {
   "cell_type": "code",
   "execution_count": 52,
   "metadata": {},
   "outputs": [
    {
     "name": "stdout",
     "output_type": "stream",
     "text": [
      "5 heads and 5 tails\n"
     ]
    }
   ],
   "source": [
    "heads = list(tosses).count(\"Head\")\n",
    "tails = list(tosses).count(\"Tail\")\n",
    "\n",
    "print(\"{} heads and {} tails\".format(heads,tails))"
   ]
  },
  {
   "cell_type": "markdown",
   "metadata": {},
   "source": [
    "Просимулюйте $100$ підкидань монетки та підрахуйте кількість кожної із сторін."
   ]
  },
  {
   "cell_type": "code",
   "execution_count": 74,
   "metadata": {},
   "outputs": [
    {
     "name": "stdout",
     "output_type": "stream",
     "text": [
      "head: 52, tails: 48\n"
     ]
    }
   ],
   "source": [
    "prob = 0.5\n",
    "newTosses = np.random.choice([\"Head\", \"Tail\"], p = (prob, 1 - prob), size = 100)\n",
    "h = list(newTosses).count(\"Head\")\n",
    "t = list(newTosses).count(\"Tail\")\n",
    "\n",
    "print(f\"head: {h}, tails: {t}\")"
   ]
  },
  {
   "cell_type": "markdown",
   "metadata": {},
   "source": [
    "### 3.2 За допомогою функції *randint*\n",
    "Реалізуйте симуляцію підкидань монетки за допомогою функції **randint**. Просимулюйте $100$ підкидань монетки та підрахуйте кількість кожної із сторін."
   ]
  },
  {
   "cell_type": "code",
   "execution_count": 104,
   "metadata": {},
   "outputs": [
    {
     "name": "stdout",
     "output_type": "stream",
     "text": [
      "head: 49, tails: 51\n"
     ]
    }
   ],
   "source": [
    "againNewTosses = np.random.randint(low=0, high=2, size=100)\n",
    "h = list(againNewTosses).count(0)\n",
    "t = list(againNewTosses).count(1)\n",
    "\n",
    "print(f\"head: {h}, tails: {t}\")"
   ]
  },
  {
   "cell_type": "markdown",
   "metadata": {},
   "source": [
    "### 3.3 За допомогою функції *sample*\n",
    "Реалізуйте симуляцію підкидань монетки за допомогою функції **sample**. Просимулюйте $100$ підкидань монетки та підрахуйте кількість кожної із сторін."
   ]
  },
  {
   "cell_type": "code",
   "execution_count": 171,
   "metadata": {},
   "outputs": [
    {
     "name": "stdout",
     "output_type": "stream",
     "text": [
      "[0. 1. 1. 0. 0. 0. 1. 1. 0. 1. 1. 0. 1. 0. 1. 1. 0. 0. 1. 1. 1. 0. 1. 1.\n",
      " 1. 1. 0. 0. 1. 1. 0. 0. 0. 0. 1. 1. 1. 1. 1. 0. 1. 1. 1. 1. 1. 0. 0. 1.\n",
      " 1. 0. 0. 1. 0. 0. 1. 0. 1. 0. 0. 0. 1. 0. 1. 1. 1. 1. 1. 0. 0. 0. 0. 0.\n",
      " 1. 1. 1. 0. 0. 1. 0. 0. 1. 1. 1. 0. 0. 1. 0. 1. 1. 0. 1. 1. 1. 1. 0. 0.\n",
      " 1. 0. 0. 0.]\n",
      "head: 54, tails: 46\n"
     ]
    }
   ],
   "source": [
    "againTosses = np.round(np.random.sample(100))\n",
    "print(againTosses)\n",
    "h = list(againTosses).count(1)\n",
    "t = list(againTosses).count(0)\n",
    "\n",
    "print(f\"head: {h}, tails: {t}\")"
   ]
  },
  {
   "cell_type": "markdown",
   "metadata": {},
   "source": [
    "### 3.4 Задача\n",
    "Знайдіть емпіричну ймовірність герба у симуляціях підкидання монетки $n = 10, 50, 100, 250, 500, 1000, 2500, 5000, 10000$ разів."
   ]
  },
  {
   "cell_type": "code",
   "execution_count": 209,
   "metadata": {},
   "outputs": [
    {
     "name": "stdout",
     "output_type": "stream",
     "text": [
      "n: 10, empiric prob: 0.6\n",
      "n: 50, empiric prob: 0.4\n",
      "n: 100, empiric prob: 0.42\n",
      "n: 250, empiric prob: 0.504\n",
      "n: 500, empiric prob: 0.522\n",
      "n: 1000, empiric prob: 0.509\n",
      "n: 2500, empiric prob: 0.5\n",
      "n: 5000, empiric prob: 0.501\n",
      "n: 10000, empiric prob: 0.5052\n"
     ]
    }
   ],
   "source": [
    "amts = (10,50,100,250,500,1000,2500,5000,10000)\n",
    "for n in amts:\n",
    "    againTosses = np.round(np.random.sample(n))\n",
    "#     print(againTosses)\n",
    "    h = list(againTosses).count(1)\n",
    "    t = list(againTosses).count(0)\n",
    "    print(f\"n: {n}, empiric prob: {h / n}\")"
   ]
  },
  {
   "cell_type": "markdown",
   "metadata": {},
   "source": [
    "## 4 Гральний кубик\n",
    "### 4.1 Реалізація симуляцій\n",
    "Реалізуйте симуляцію кидків грального кубика за допомогою функції **???**. Просимулюйте $60$ кидків кубика та підрахуйте кількість кожної із сторін."
   ]
  },
  {
   "cell_type": "code",
   "execution_count": 221,
   "metadata": {},
   "outputs": [
    {
     "name": "stdout",
     "output_type": "stream",
     "text": [
      "[ 8 11 15 10  8  8]\n",
      "[0.13 0.18 0.25 0.17 0.13 0.13]\n"
     ]
    }
   ],
   "source": [
    "n = 60\n",
    "data = list(np.random.choice(range(1, 7), n))\n",
    "# print(data)\n",
    "amt = np.array([data.count(p) for p in range(1, 7)])\n",
    "probs = np.round(list(amt / n), 2)\n",
    "print(amt)\n",
    "print(probs)"
   ]
  },
  {
   "cell_type": "markdown",
   "metadata": {},
   "source": [
    "### 4.2 Задача\n",
    "Знайдіть емпіричну ймовірність кожної сторони у симуляціях кидання грального кубика $n = 10, 50, 100, 250, 500, 1000, 2500, 5000, 10000$ разів."
   ]
  },
  {
   "cell_type": "code",
   "execution_count": 224,
   "metadata": {},
   "outputs": [
    {
     "name": "stdout",
     "output_type": "stream",
     "text": [
      "probs: [0.0, 0.2, 0.3, 0.3, 0.1, 0.1]\n",
      "probs: [0.14, 0.1, 0.18, 0.14, 0.16, 0.28]\n",
      "probs: [0.14, 0.14, 0.21, 0.16, 0.13, 0.22]\n",
      "probs: [0.16, 0.16, 0.18, 0.14, 0.18, 0.18]\n",
      "probs: [0.16, 0.18, 0.19, 0.18, 0.15, 0.15]\n",
      "probs: [0.16, 0.18, 0.16, 0.17, 0.15, 0.18]\n",
      "probs: [0.19, 0.17, 0.16, 0.16, 0.15, 0.17]\n",
      "probs: [0.17, 0.16, 0.17, 0.17, 0.16, 0.18]\n",
      "probs: [0.17, 0.17, 0.17, 0.16, 0.17, 0.17]\n"
     ]
    }
   ],
   "source": [
    "amt = (10,50,100,250,500,1000,2500,5000,10000)\n",
    "for n in amt:\n",
    "    data = list(np.random.choice(range(1, 7), n))\n",
    "    # print(data)\n",
    "    amt = np.array([data.count(p) for p in range(1, 7)])\n",
    "    probs = np.round(list(amt / n), 2)\n",
    "    print(f\"probs: {list(probs)}\")\n"
   ]
  },
  {
   "cell_type": "markdown",
   "metadata": {},
   "source": [
    "## 5 Колода карт\n",
    "### 5.1 Реалізація"
   ]
  },
  {
   "cell_type": "code",
   "execution_count": 231,
   "metadata": {},
   "outputs": [
    {
     "name": "stdout",
     "output_type": "stream",
     "text": [
      "[('7', '♡'), ('7', '♠'), ('7', '♣'), ('7', '♢'), ('K', '♡'), ('K', '♠'), ('K', '♣'), ('K', '♢'), ('A', '♡'), ('A', '♠'), ('A', '♣'), ('A', '♢'), ('8', '♡'), ('8', '♠'), ('8', '♣'), ('8', '♢'), ('9', '♡'), ('9', '♠'), ('9', '♣'), ('9', '♢'), ('10', '♡'), ('10', '♠'), ('10', '♣'), ('10', '♢'), ('2', '♡'), ('2', '♠'), ('2', '♣'), ('2', '♢'), ('3', '♡'), ('3', '♠'), ('3', '♣'), ('3', '♢'), ('Q', '♡'), ('Q', '♠'), ('Q', '♣'), ('Q', '♢'), ('6', '♡'), ('6', '♠'), ('6', '♣'), ('6', '♢'), ('5', '♡'), ('5', '♠'), ('5', '♣'), ('5', '♢'), ('J', '♡'), ('J', '♠'), ('J', '♣'), ('J', '♢'), ('4', '♡'), ('4', '♠'), ('4', '♣'), ('4', '♢')]\n"
     ]
    }
   ],
   "source": [
    "# Визначимо номінали, масті та карти\n",
    "Ranks = {'2', '3', '4', '5', '6', '7', '8', '9', '10', 'J', 'Q', 'K', 'A'}\n",
    "Suits = {'♢', '♠', '♣', '♡'}\n",
    "# Створимо колоду карт\n",
    "Cards = [(Rank, Suit) for Rank in Ranks for Suit in Suits]\n",
    "print(Cards)"
   ]
  },
  {
   "cell_type": "code",
   "execution_count": 232,
   "metadata": {},
   "outputs": [
    {
     "name": "stdout",
     "output_type": "stream",
     "text": [
      "7♡, 7♠, 7♣, 7♢, K♡, K♠, K♣, K♢, A♡, A♠, A♣, A♢, 8♡, 8♠, 8♣, 8♢, 9♡, 9♠, 9♣, 9♢, 10♡, 10♠, 10♣, 10♢, 2♡, 2♠, 2♣, 2♢, 3♡, 3♠, 3♣, 3♢, Q♡, Q♠, Q♣, Q♢, 6♡, 6♠, 6♣, 6♢, 5♡, 5♠, 5♣, 5♢, J♡, J♠, J♣, J♢, 4♡, 4♠, 4♣, 4♢\n"
     ]
    }
   ],
   "source": [
    "# Інший вівід результату\n",
    "print(', '.join([(card[0] + card[1]) for card in Cards]))"
   ]
  },
  {
   "cell_type": "code",
   "execution_count": 233,
   "metadata": {},
   "outputs": [
    {
     "name": "stdout",
     "output_type": "stream",
     "text": [
      "♡7, ♡K, ♡A, ♡8, ♡9, ♡10, ♡2, ♡3, ♡Q, ♡6, ♡5, ♡J, ♡4\n",
      "♠7, ♠K, ♠A, ♠8, ♠9, ♠10, ♠2, ♠3, ♠Q, ♠6, ♠5, ♠J, ♠4\n",
      "♣7, ♣K, ♣A, ♣8, ♣9, ♣10, ♣2, ♣3, ♣Q, ♣6, ♣5, ♣J, ♣4\n",
      "♢7, ♢K, ♢A, ♢8, ♢9, ♢10, ♢2, ♢3, ♢Q, ♢6, ♢5, ♢J, ♢4\n"
     ]
    }
   ],
   "source": [
    "# Або згрупувавши по мастях\n",
    "for suit in Suits:\n",
    "    print(\", \".join([(suit+rank) for rank in Ranks]))"
   ]
  },
  {
   "cell_type": "code",
   "execution_count": 234,
   "metadata": {},
   "outputs": [
    {
     "name": "stdout",
     "output_type": "stream",
     "text": [
      "[('K', '♡'), ('3', '♡'), ('3', '♣'), ('Q', '♡'), ('J', '♣'), ('4', '♣'), ('7', '♠'), ('Q', '♢'), ('4', '♢'), ('J', '♡'), ('K', '♠'), ('Q', '♠'), ('3', '♢'), ('7', '♡'), ('8', '♣'), ('2', '♣'), ('5', '♠'), ('2', '♡'), ('J', '♢'), ('10', '♡'), ('2', '♢'), ('A', '♠'), ('5', '♣'), ('3', '♠'), ('A', '♢'), ('Q', '♣'), ('6', '♢'), ('8', '♢'), ('8', '♠'), ('7', '♣'), ('K', '♣'), ('5', '♢'), ('4', '♠'), ('6', '♣'), ('9', '♠'), ('10', '♣'), ('9', '♣'), ('A', '♡'), ('10', '♠'), ('7', '♢'), ('J', '♠'), ('9', '♡'), ('6', '♡'), ('8', '♡'), ('A', '♣'), ('4', '♡'), ('5', '♡'), ('9', '♢'), ('K', '♢'), ('10', '♢'), ('2', '♠'), ('6', '♠')]\n"
     ]
    }
   ],
   "source": [
    "# Перемішаємо колоду\n",
    "np.random.shuffle(Cards)\n",
    "\n",
    "print(Cards)"
   ]
  },
  {
   "cell_type": "markdown",
   "metadata": {},
   "source": [
    "### 5.2 Задача\n",
    "Знайдіть емпіричну ймовірність карти парного числа (2, 4, 6, 8, 10) у симуляціях вибору однієї карти з колоди 52 карт $n = 10, 50, 100, 250, 500, 1000, 2500, 5000, 10000$ разів."
   ]
  },
  {
   "cell_type": "code",
   "execution_count": 238,
   "metadata": {},
   "outputs": [
    {
     "name": "stdout",
     "output_type": "stream",
     "text": [
      "[0.5, 0.36, 0.42, 0.392, 0.424, 0.395, 0.388, 0.3856, 0.3754]\n",
      "0.38461538461538464\n"
     ]
    }
   ],
   "source": [
    "amts = (10, 50, 100, 250, 500, 1000, 2500, 5000, 10000)\n",
    "results = []\n",
    "for n in amts:\n",
    "    sample = [Cards[np.random.randint(len(Cards))] for i in range(n)]\n",
    "    count = 0\n",
    "    for i in range(len(sample)):\n",
    "        if sample[i][0] in ('2', '4', '6', '8', '10'):\n",
    "            count += 1\n",
    "    results.append(count / n)\n",
    "print(results)\n",
    "print(5/13)"
   ]
  },
  {
   "cell_type": "markdown",
   "metadata": {},
   "source": [
    "### 5.3 Задача\n",
    "Випадковим чином роздайте колоду з 52 карт чотирьом гравцям (кожному по 13 карт) так, щоб кожен з них мав 4 карти однієї масті та по 3 карти інших мастей. Наприклад, {♣5, ♣10, ♣8, ♣4, ♠4, ♠J, ♠3, ♢Q, ♢7, ♢K, ♡9, ♡1, ♡5}."
   ]
  },
  {
   "cell_type": "code",
   "execution_count": 35,
   "metadata": {
    "collapsed": true
   },
   "outputs": [],
   "source": [
    "# Місце для Вашого коду\n",
    "\n"
   ]
  },
  {
   "cell_type": "markdown",
   "metadata": {},
   "source": [
    "### 5.4 Задача\n",
    "Випадковим чином роздайте колоду з 52 карт чотирьом гравцям (кожному по 13 карт) так, щоб кожен з них мав від 2 до 5 карт кожної масті. Наприклад, {♣5, ♣10, ♣8, ♣4, ♠4, ♠J, ♠3, ♢Q, ♣7, ♢K, ♡9, ♡1, ♡5}."
   ]
  },
  {
   "cell_type": "code",
   "execution_count": 36,
   "metadata": {
    "collapsed": true
   },
   "outputs": [],
   "source": [
    "# Місце для Вашого коду\n",
    "\n"
   ]
  }
 ],
 "metadata": {
  "kernelspec": {
   "display_name": "Python 3",
   "language": "python",
   "name": "python3"
  },
  "language_info": {
   "codemirror_mode": {
    "name": "ipython",
    "version": 3
   },
   "file_extension": ".py",
   "mimetype": "text/x-python",
   "name": "python",
   "nbconvert_exporter": "python",
   "pygments_lexer": "ipython3",
   "version": "3.7.2"
  }
 },
 "nbformat": 4,
 "nbformat_minor": 1
}
